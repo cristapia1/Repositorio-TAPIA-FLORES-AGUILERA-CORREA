{
  "nbformat": 4,
  "nbformat_minor": 0,
  "metadata": {
    "colab": {
      "provenance": []
    },
    "kernelspec": {
      "name": "python3",
      "display_name": "Python 3"
    },
    "language_info": {
      "name": "python"
    }
  },
  "cells": [
    {
      "cell_type": "code",
      "execution_count": 17,
      "metadata": {
        "colab": {
          "base_uri": "https://localhost:8080/"
        },
        "id": "4MbT1tGAcrBd",
        "outputId": "b8f2c3ad-2fc1-4fcd-f33a-e2605d9a69a5"
      },
      "outputs": [
        {
          "output_type": "stream",
          "name": "stdout",
          "text": [
            "Drive already mounted at /content/drive; to attempt to forcibly remount, call drive.mount(\"/content/drive\", force_remount=True).\n"
          ]
        }
      ],
      "source": [
        "from google.colab import drive\n",
        "drive.mount('/content/drive')"
      ]
    },
    {
      "cell_type": "code",
      "source": [
        "import pandas as pd\n",
        "import seaborn as sns # importar la libreria seaborn\n"
      ],
      "metadata": {
        "id": "G0643Qb7c9Fd"
      },
      "execution_count": 18,
      "outputs": []
    },
    {
      "cell_type": "markdown",
      "source": [],
      "metadata": {
        "id": "QBF5GwvOl4kE"
      }
    },
    {
      "cell_type": "code",
      "source": [
        "df = pd.read_csv('/content/drive/MyDrive/Colab Notebooks/comunas final.csv', encoding = 'latin_1',on_bad_lines='skip', sep=',')"
      ],
      "metadata": {
        "id": "nzttWw83dpSW"
      },
      "execution_count": 20,
      "outputs": []
    },
    {
      "cell_type": "code",
      "source": [
        "df = df.dropna()"
      ],
      "metadata": {
        "id": "-oGL9I0jMzmb"
      },
      "execution_count": 21,
      "outputs": []
    },
    {
      "cell_type": "code",
      "source": [
        "df = df.astype(str)"
      ],
      "metadata": {
        "id": "g3G2LfLepQNR"
      },
      "execution_count": 22,
      "outputs": []
    },
    {
      "cell_type": "code",
      "source": [
        "df = df.apply(lambda x: x.str.replace('.',''))"
      ],
      "metadata": {
        "id": "-bV6T_c4xgwD"
      },
      "execution_count": 23,
      "outputs": []
    },
    {
      "cell_type": "code",
      "source": [
        "df = df.apply(lambda x: x.str.replace(',00',''))"
      ],
      "metadata": {
        "id": "N_dZhwkZyc4l"
      },
      "execution_count": 24,
      "outputs": []
    },
    {
      "cell_type": "code",
      "source": [
        "df[[\"2018\",\"2019\",\"2020\",\"2021\",\"2022\",\"2023\"]] = df[[\"2018\",\"2019\",\"2020\",\"2021\",\"2022\",\"2023\"]].astype(int)"
      ],
      "metadata": {
        "id": "O30X5fC9xyI3"
      },
      "execution_count": 25,
      "outputs": []
    },
    {
      "cell_type": "code",
      "source": [
        "df.to_csv('/content/drive/My Drive/df.csv', index=False)"
      ],
      "metadata": {
        "id": "VWMdUTEQ1UjT"
      },
      "execution_count": 26,
      "outputs": []
    },
    {
      "cell_type": "code",
      "source": [],
      "metadata": {
        "id": "m1OYHbim2Ev2"
      },
      "execution_count": null,
      "outputs": []
    }
  ]
}