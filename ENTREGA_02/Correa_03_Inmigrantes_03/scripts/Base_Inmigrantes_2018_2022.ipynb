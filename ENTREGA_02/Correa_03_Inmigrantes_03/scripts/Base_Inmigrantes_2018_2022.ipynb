{
  "cells": [
    {
      "cell_type": "code",
      "source": [
        "from google.colab import drive\n",
        "drive.mount('/content/drive')"
      ],
      "metadata": {
        "colab": {
          "base_uri": "https://localhost:8080/"
        },
        "id": "1B1if5V0fbpG",
        "outputId": "ec35c58c-19e8-48e4-8b95-88b3ebf2586e"
      },
      "id": "1B1if5V0fbpG",
      "execution_count": null,
      "outputs": [
        {
          "output_type": "stream",
          "name": "stdout",
          "text": [
            "Mounted at /content/drive\n"
          ]
        }
      ]
    },
    {
      "cell_type": "code",
      "execution_count": 2,
      "id": "249d3b4d",
      "metadata": {
        "scrolled": true,
        "id": "249d3b4d",
        "colab": {
          "base_uri": "https://localhost:8080/"
        },
        "outputId": "423216a7-d176-4fc6-d28a-b092f44edc6a"
      },
      "outputs": [
        {
          "output_type": "stream",
          "name": "stdout",
          "text": [
            "  SEXO     EDAD      PAIS  AÑO ESTIMACION                     REGION  \\\n",
            "0    H  00 A 04  ALEMANIA            2018                          0   \n",
            "1    H  00 A 04  ALEMANIA            2018                   COQUIMBO   \n",
            "2    H  00 A 04  ALEMANIA            2018                      MAULE   \n",
            "3    H  00 A 04  ALEMANIA            2018  METROPOLITANA DE SANTIAGO   \n",
            "4    H  00 A 04  ALEMANIA            2018  METROPOLITANA DE SANTIAGO   \n",
            "\n",
            "             COMUNA  ESTIMACION  \n",
            "0     OTRAS COMUNAS          10  \n",
            "1         LA SERENA           2  \n",
            "2            CURICO           1  \n",
            "3  ESTACION CENTRAL           1  \n",
            "4        LAS CONDES           3  \n"
          ]
        }
      ],
      "source": [
        "## Se dirige al siguiente link: https://serviciomigraciones.cl/estudios-migratorios/estimaciones-de-extranjeros/\n",
        "# Luego se presiona 2022 y se descarga  un archivo comprimido. Dentro del Archivo comprimido el que importa es el 'basecomunas.csv'\n",
        "\n",
        "import pandas as pd\n",
        "import unicodedata\n",
        "\n",
        "\n",
        "#Se define la siguiente funcion para eliminar tildes y trabajar mas prolijo\n",
        "def remove_accents(input_str):\n",
        "    if pd.isna(input_str):\n",
        "        return input_str  # Si es NaN, simplemente lo retorna sin cambios\n",
        "    input_str = str(input_str)  # Asegurarse de que todos los datos son tratados como cadenas\n",
        "    # Normalizar el texto para descomponer los tildes de las letras\n",
        "    nfkd_form = unicodedata.normalize('NFKD', input_str)\n",
        "    # Remover los caracteres combinados (como tildes)\n",
        "    only_ascii = nfkd_form.encode('ASCII', 'ignore').decode('utf-8')\n",
        "    return only_ascii\n",
        "\n",
        "# Se define la ruta al archivo\n",
        "file_path = '/content/drive/MyDrive/Colab Notebooks/basecomunas.csv'\n",
        "\n",
        "# Se carga el archivo en un DataFrame\n",
        "df = pd.read_csv(file_path, encoding='ISO-8859-1')\n",
        "\n",
        "    # Remover tildes\n",
        "for column in ['SEXO', 'EDAD', 'PAIS', 'REGION', 'COMUNA']:\n",
        "    df[column] = df[column].apply(remove_accents)\n",
        "\n",
        "\n",
        "## Preparación de datos para análisis y visualización\n",
        "\n",
        "# 1. Manejar valores nulos\n",
        "df.fillna(0, inplace=True)\n",
        "\n",
        "# 2. Los índices enteros son el año de estimación y la estimación de inmigrantes.\n",
        "# Entonces, asegurarse de que el ano y el numero de inmigrantes sea un entero.\n",
        "df['AÑO ESTIMACION'] = df['AÑO ESTIMACION'].astype(int)\n",
        "df['ESTIMACION'] = df['ESTIMACION'].astype(int)\n",
        "\n",
        "# 3. Eliminar duplicados\n",
        "df.drop_duplicates(inplace=True)\n",
        "\n",
        "# 4. Filtrar datos irrelevantes\n",
        "# Todas pueden ser relevantes para el estudio menos el desgloce de la 'ESTIMACION' de los inmigrantes\n",
        "df = df[['SEXO', 'EDAD', 'PAIS', 'AÑO ESTIMACION', 'REGION', 'COMUNA', 'ESTIMACION']]\n",
        "\n",
        "# 5. Se valida rango de años, edad y territorio\n",
        "df = df[(df['AÑO ESTIMACION'] >= 2018) & (df['AÑO ESTIMACION'] <= 2022)]\n",
        "df = df[df['EDAD'].str.contains('A')]\n",
        "df=df[(df['REGION'] == \"METROPOLITANA DE SANTIAGO\")]\n",
        "# Hasta el momento se trabaja con 'EDAD' como vino por 'default' es decir rangos de 5 en 5 anos y en formato como '00 A 04'\n",
        "# No obstante si es que en un futuro se requiere cambiar la estructura de edad, se puede modificar su formato mas adelante\n",
        "\n",
        "# 6. Se optimización los tipos de datos no numericos para categorías (menos uso de memoria, mejora el rendimiento, facilita su analisis)\n",
        "df['SEXO'] = df['SEXO'].astype('category')\n",
        "df['REGION'] = df['REGION'].astype('category')\n",
        "df['COMUNA'] = df['COMUNA'].astype('category')\n",
        "df['EDAD'] = df['EDAD'].astype('category')\n",
        "df['PAIS'] = df['PAIS'].astype('category')\n",
        "\n",
        "# 7. Verificar que no hay valores nulos\n",
        "assert df.isnull().sum().sum() == 0\n",
        "\n",
        "# Mostrar las primeras filas del DataFrame limpio\n",
        "print(df.head())\n",
        "\n",
        "# Opcional: Exportar a nuevo CSV\n",
        "#df.to_csv('basecomunas_limpio.csv', index=False)\n"
      ]
    },
    {
      "cell_type": "code",
      "source": [
        "df.to_csv('/content/drive/My Drive/Base_inmigranteslimpios.csv', index=False)"
      ],
      "metadata": {
        "id": "B74Vz8fmhU7e"
      },
      "id": "B74Vz8fmhU7e",
      "execution_count": 8,
      "outputs": []
    }
  ],
  "metadata": {
    "kernelspec": {
      "display_name": "Python 3 (ipykernel)",
      "language": "python",
      "name": "python3"
    },
    "language_info": {
      "codemirror_mode": {
        "name": "ipython",
        "version": 3
      },
      "file_extension": ".py",
      "mimetype": "text/x-python",
      "name": "python",
      "nbconvert_exporter": "python",
      "pygments_lexer": "ipython3",
      "version": "3.11.5"
    },
    "colab": {
      "provenance": []
    }
  },
  "nbformat": 4,
  "nbformat_minor": 5
}