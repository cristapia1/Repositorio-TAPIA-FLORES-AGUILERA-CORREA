{
  "nbformat": 4,
  "nbformat_minor": 0,
  "metadata": {
    "colab": {
      "provenance": []
    },
    "kernelspec": {
      "name": "python3",
      "display_name": "Python 3"
    },
    "language_info": {
      "name": "python"
    }
  },
  "cells": [
    {
      "cell_type": "code",
      "source": [],
      "metadata": {
        "id": "GsprOOR41xFQ"
      },
      "execution_count": null,
      "outputs": []
    },
    {
      "cell_type": "code",
      "execution_count": 36,
      "metadata": {
        "id": "FwE5QOnqyvXm"
      },
      "outputs": [],
      "source": [
        "import pandas as pd\n",
        "import seaborn as sns\n",
        "import matplotlib.pyplot as plt"
      ]
    },
    {
      "cell_type": "code",
      "source": [
        "from google.colab import drive\n",
        "drive.mount('/content/drive')"
      ],
      "metadata": {
        "colab": {
          "base_uri": "https://localhost:8080/"
        },
        "id": "Yt5OyqIv1593",
        "outputId": "853859af-bccc-487d-c3b3-934fd5391f79"
      },
      "execution_count": 37,
      "outputs": [
        {
          "output_type": "stream",
          "name": "stdout",
          "text": [
            "Drive already mounted at /content/drive; to attempt to forcibly remount, call drive.mount(\"/content/drive\", force_remount=True).\n"
          ]
        }
      ]
    },
    {
      "cell_type": "code",
      "source": [
        "data = pd.read_csv('/content/drive/MyDrive/Delitos_datos_limpios.csv')"
      ],
      "metadata": {
        "id": "r7c_YWfY_QLd"
      },
      "execution_count": 115,
      "outputs": []
    },
    {
      "cell_type": "code",
      "source": [
        "print(data.head())"
      ],
      "metadata": {
        "colab": {
          "base_uri": "https://localhost:8080/"
        },
        "id": "XTShZtxk_Wtk",
        "outputId": "d0cf538e-65bd-4ab9-b027-c6aaed12b63a"
      },
      "execution_count": 116,
      "outputs": [
        {
          "output_type": "stream",
          "name": "stdout",
          "text": [
            "                              Grupo delictual    2018    2019    2020    2021  \\\n",
            "0         Delitos de mayor connotacion social  200188  205305  139617  121294   \n",
            "1                                  Homicidios     227     258     360     236   \n",
            "2                                      Hurtos   55620   54264   24765   23543   \n",
            "3                              Lesiones leves   17002   17939   12541   12079   \n",
            "4  Lesiones menos graves, graves o gravisimas    4205    4778    3959    3706   \n",
            "\n",
            "     2022    2023  \n",
            "0  173067  181660  \n",
            "1     302     331  \n",
            "2   35081   40928  \n",
            "3   14626   15925  \n",
            "4    4356    4303  \n"
          ]
        }
      ]
    },
    {
      "cell_type": "code",
      "source": [
        "valores = data [[\"Grupo delictual\", \"2018\", \"2021\", \"2023\"]]"
      ],
      "metadata": {
        "id": "bFyHXAMt_bK0"
      },
      "execution_count": 125,
      "outputs": []
    },
    {
      "cell_type": "code",
      "source": [
        "print(valores)"
      ],
      "metadata": {
        "colab": {
          "base_uri": "https://localhost:8080/"
        },
        "id": "ETme9spPAA-N",
        "outputId": "fc6ce372-8bf2-48ac-ae90-1e9e3621b8b7"
      },
      "execution_count": 118,
      "outputs": [
        {
          "output_type": "stream",
          "name": "stdout",
          "text": [
            "                               Grupo delictual    2018    2021    2023\n",
            "0          Delitos de mayor connotacion social  200188  121294  181660\n",
            "1                                   Homicidios     227     236     331\n",
            "2                                       Hurtos   55620   23543   40928\n",
            "3                               Lesiones leves   17002   12079   15925\n",
            "4   Lesiones menos graves, graves o gravisimas    4205    3706    4303\n",
            "5                       Otros robos con fuerza    2829    2544    3703\n",
            "6            Robo con violencia o intimidacion   40485   26305   43679\n",
            "7          Robo de objetos de o desde vehiculo   27112   17199   21123\n",
            "8                 Robo de vehi­culo motorizado   10810   11897   10934\n",
            "9                       Robo en lugar habitado   12207    5432    7518\n",
            "10                   Robo en lugar no habitado   11831    6639    9297\n",
            "11                           Robo por sorpresa   16740   10603   22739\n",
            "12                                 Violaciones    1120    1111    1180\n",
            "13                   Infraccion a ley de armas    4401    2175    3528\n",
            "14                               Incivilidades  165266   91445   99548\n",
            "15                                    Abigeato      23      15      16\n",
            "16    Abusos sexuales y otros delitos sexuales    3549    3776    4228\n",
            "17                     Violencia intrafamiliar   29006   32458   31420\n",
            "18                                 Receptacion    3191    2574    3312\n",
            "19                              Robo frustrado    2853    2310    3211\n"
          ]
        }
      ]
    },
    {
      "cell_type": "code",
      "source": [
        "data = data.drop([0, 2, 3, 4, 5, 6, 7, 8, 10, 12, 14, 15, 16, 17, 18, 19])"
      ],
      "metadata": {
        "collapsed": true,
        "id": "2jD9Y67kA0kV"
      },
      "execution_count": 119,
      "outputs": []
    },
    {
      "cell_type": "code",
      "source": [
        "print(data)"
      ],
      "metadata": {
        "colab": {
          "base_uri": "https://localhost:8080/"
        },
        "id": "yxLNIjVoCFUl",
        "outputId": "ab6b7592-5017-4709-8795-ac1589461c55"
      },
      "execution_count": 124,
      "outputs": [
        {
          "output_type": "stream",
          "name": "stdout",
          "text": [
            "              Grupo delictual   2018   2019   2020   2021   2022   2023\n",
            "1                  Homicidios    227    258    360    236    302    331\n",
            "9      Robo en lugar habitado  12207  10912   6273   5432   8048   7518\n",
            "11          Robo por sorpresa  16740  16174  10767  10603  18290  22739\n",
            "13  Infraccion a ley de armas   4401   3033   2109   2175   3036   3528\n"
          ]
        }
      ]
    },
    {
      "cell_type": "code",
      "source": [
        "print(valores)"
      ],
      "metadata": {
        "colab": {
          "base_uri": "https://localhost:8080/"
        },
        "id": "Nk2l72A4CM8D",
        "outputId": "0ef97d49-e5f9-4846-f5b8-499727af8da3"
      },
      "execution_count": 126,
      "outputs": [
        {
          "output_type": "stream",
          "name": "stdout",
          "text": [
            "              Grupo delictual   2018   2021   2023\n",
            "1                  Homicidios    227    236    331\n",
            "9      Robo en lugar habitado  12207   5432   7518\n",
            "11          Robo por sorpresa  16740  10603  22739\n",
            "13  Infraccion a ley de armas   4401   2175   3528\n"
          ]
        }
      ]
    },
    {
      "cell_type": "code",
      "source": [
        "plt.figure(figsize=(10, 6))"
      ],
      "metadata": {
        "colab": {
          "base_uri": "https://localhost:8080/",
          "height": 54
        },
        "id": "w5xfaHJYGyri",
        "outputId": "aec0f120-445e-4253-91c6-e4e5fa0fecce"
      },
      "execution_count": 152,
      "outputs": [
        {
          "output_type": "execute_result",
          "data": {
            "text/plain": [
              "<Figure size 1000x600 with 0 Axes>"
            ]
          },
          "metadata": {},
          "execution_count": 152
        },
        {
          "output_type": "display_data",
          "data": {
            "text/plain": [
              "<Figure size 1000x600 with 0 Axes>"
            ]
          },
          "metadata": {}
        }
      ]
    },
    {
      "cell_type": "code",
      "source": [
        "ax = valores.plot.bar(x= \"Grupo delictual\", y= \"2018\", rot=0)"
      ],
      "metadata": {
        "colab": {
          "base_uri": "https://localhost:8080/",
          "height": 449
        },
        "id": "OxyxE2ECCds7",
        "outputId": "8c2e15ae-b512-4192-f786-e64e35b609e7"
      },
      "execution_count": 153,
      "outputs": [
        {
          "output_type": "display_data",
          "data": {
            "text/plain": [
              "<Figure size 640x480 with 1 Axes>"
            ],
            "image/png": "[encoded data removed]"
          },
          "metadata": {}
        }
      ]
    },
    {
      "cell_type": "code",
      "source": [
        "data = pd.read_csv('/content/drive/MyDrive/Delitos_datos_limpios.csv')"
      ],
      "metadata": {
        "id": "K19WjjzjIYlY"
      },
      "execution_count": 155,
      "outputs": []
    },
    {
      "cell_type": "code",
      "source": [
        "data = data.drop([0, 2, 3, 4, 5, 6, 7, 8, 10, 12, 14, 15, 16, 17, 18, 19])"
      ],
      "metadata": {
        "id": "mJSj6N1SIxoA"
      },
      "execution_count": 158,
      "outputs": []
    },
    {
      "cell_type": "code",
      "source": [
        "valores = data [[\"Grupo delictual\", \"2018\", \"2021\", \"2023\"]]"
      ],
      "metadata": {
        "id": "v3NTHcTlI1H3"
      },
      "execution_count": 159,
      "outputs": []
    },
    {
      "cell_type": "code",
      "source": [
        "print(valores)"
      ],
      "metadata": {
        "colab": {
          "base_uri": "https://localhost:8080/"
        },
        "id": "qUur8_7YI-KQ",
        "outputId": "ab924d0f-ce30-417c-bfe2-feeb4c5153f6"
      },
      "execution_count": 160,
      "outputs": [
        {
          "output_type": "stream",
          "name": "stdout",
          "text": [
            "              Grupo delictual   2018   2021   2023\n",
            "1                  Homicidios    227    236    331\n",
            "9      Robo en lugar habitado  12207   5432   7518\n",
            "11          Robo por sorpresa  16740  10603  22739\n",
            "13  Infraccion a ley de armas   4401   2175   3528\n"
          ]
        }
      ]
    },
    {
      "cell_type": "code",
      "source": [
        "ax = valores.plot.bar(x= \"Grupo delictual\", y= \"2021\", rot=0)"
      ],
      "metadata": {
        "colab": {
          "base_uri": "https://localhost:8080/",
          "height": 449
        },
        "id": "P6057tVtJCQY",
        "outputId": "9d9358ea-d750-4d8c-bd76-377692f75045"
      },
      "execution_count": 161,
      "outputs": [
        {
          "output_type": "display_data",
          "data": {
            "text/plain": [
              "<Figure size 640x480 with 1 Axes>"
            ],
            "image/png": "[encoded data removed]"
          },
          "metadata": {}
        }
      ]
    },
    {
      "cell_type": "code",
      "source": [
        "data = pd.read_csv('/content/drive/MyDrive/Delitos_datos_limpios.csv')"
      ],
      "metadata": {
        "id": "IofZYlzdJX-h"
      },
      "execution_count": 162,
      "outputs": []
    },
    {
      "cell_type": "code",
      "source": [
        "data = data.drop([0, 2, 3, 4, 5, 6, 7, 8, 10, 12, 14, 15, 16, 17, 18, 19])"
      ],
      "metadata": {
        "id": "KLp3Dv49Jaxf"
      },
      "execution_count": 163,
      "outputs": []
    },
    {
      "cell_type": "code",
      "source": [
        "valores = data [[\"Grupo delictual\", \"2018\", \"2021\", \"2023\"]]"
      ],
      "metadata": {
        "id": "bl-6NSO7JdqI"
      },
      "execution_count": 164,
      "outputs": []
    },
    {
      "cell_type": "code",
      "source": [
        "ax = valores.plot.bar(x= \"Grupo delictual\", y= \"2023\", rot=0)"
      ],
      "metadata": {
        "colab": {
          "base_uri": "https://localhost:8080/",
          "height": 449
        },
        "id": "_IBCA5BIJggg",
        "outputId": "0b2a5a76-6039-4066-838c-196d5b98573f"
      },
      "execution_count": 166,
      "outputs": [
        {
          "output_type": "display_data",
          "data": {
            "text/plain": [
              "<Figure size 640x480 with 1 Axes>"
            ],
            "image/png": "[encoded data removed]"
          },
          "metadata": {}
        }
      ]
    },
    {
      "cell_type": "code",
      "source": [
        "data.to_csv('/content/drive/My Drive/Visualización04.csv', index=False)"
      ],
      "metadata": {
        "id": "szDZdJFQJoDY"
      },
      "execution_count": 167,
      "outputs": []
    }
  ]
}